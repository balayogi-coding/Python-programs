{
 "cells": [
  {
   "cell_type": "markdown",
   "id": "d84cb7d7-81a0-45e8-87bb-9464fa8966b2",
   "metadata": {},
   "source": [
    "<h1><center>Python-Variables</center></h1>"
   ]
  },
  {
   "cell_type": "markdown",
   "id": "e9483b7c-fd1d-4d78-ad5d-41ba105c9ad7",
   "metadata": {},
   "source": [
    "<center>\n",
    "<img src="Images/Balayogi.png" width=50 height=50><br>\n",
    "<a href="https:\/\/www.youtube.com/channel/UCGHNehAJE0sq6ayR3x3gCiA">Youtube Channel</a>\n",
    "</center>"
   ]
  },
  {
   "cell_type": "markdown",
   "id": "8056a527-749f-4938-8762-bdbd41ff0238",
   "metadata": {},
   "source": [
    "<h3><b>What is a variable?</b></h3>"
   ]
  },
  {
   "cell_type": "markdown",
   "id": "9ba5b0b2-98f2-4865-a782-55ac12c4948e",
   "metadata": {},
   "source": [
    "<ul>\n",
    "    <li>A memory location.</li>\n",
    "    <li>A name that is associated with that location.</li>\n",
    "    <li>The memory location is used to hold data.</li>\n",
    "</ul>"
   ]
  },
  {
   "cell_type": "markdown",
   "id": "eaf876de-88af-45ae-8cc2-1a49d4ccfe32",
   "metadata": {},
   "source": [
    "<b>Dynamic Typing</b> - We don't have to declare the type of variable while assigning a value to a variable in Python. Like in other languages like C, C++, Java, etc..,"
   ]
  },
  {
   "cell_type": "markdown",
   "id": "db3b510b-8610-475d-8205-15fcf503dc34",
   "metadata": {},
   "source": [
    "<center><img src="Images/variables.jpg"></center>"
   ]
  },
  {
   "cell_type": "markdown",
   "id": "fa01c0e6-0d19-40d3-8a6d-182fb9e69233",
   "metadata": {},
   "source": [
    "<h3><b>How to declare?</b></h3>"
   ]
  },
  {
   "cell_type": "markdown",
   "id": "a21e8787-04ca-4e2d-8b36-4ba1d27bf902",
   "metadata": {},
   "source": [
    "<center><h3>variable-name = value</h3></center>"
   ]
  },
  {
   "cell_type": "code",
   "execution_count": 1,
   "id": "771734bb-da63-46a2-bd5f-8a8187d5ec31",
   "metadata": {},
   "outputs": [
    {
     "data": {
      "text/plain": [
       "20"
      ]
     },
     "execution_count": 1,
     "metadata": {},
     "output_type": "execute_result"
    }
   ],
   "source": [
    "value1 = 20\n",
    "value1"
   ]
  },
  {
   "cell_type": "code",
   "execution_count": 2,
   "id": "059a732f-d4b7-4705-b986-2c5ce2769604",
   "metadata": {},
   "outputs": [
    {
     "data": {
      "text/plain": [
       "30"
      ]
     },
     "execution_count": 2,
     "metadata": {},
     "output_type": "execute_result"
    }
   ],
   "source": [
    "value1 = 30\n",
    "value1"
   ]
  },
  {
   "cell_type": "code",
   "execution_count": 3,
   "id": "3994ff93-9948-4a89-b6ce-e2179aca53e3",
   "metadata": {},
   "outputs": [
    {
     "data": {
      "text/plain": [
       "3.14"
      ]
     },
     "execution_count": 3,
     "metadata": {},
     "output_type": "execute_result"
    }
   ],
   "source": [
    "value2 = 3.14\n",
    "value2"
   ]
  },
  {
   "cell_type": "code",
   "execution_count": 4,
   "id": "f5094fad-ab59-4deb-a5b1-2b170a985403",
   "metadata": {},
   "outputs": [
    {
     "data": {
      "text/plain": [
       "'hello'"
      ]
     },
     "execution_count": 4,
     "metadata": {},
     "output_type": "execute_result"
    }
   ],
   "source": [
    "value3 = \"hello\"\n",
    "value3"
   ]
  }
 ],
 "metadata": {
  "kernelspec": {
   "display_name": "Python 3",
   "language": "python",
   "name": "python3"
  },
  "language_info": {
   "codemirror_mode": {
    "name": "ipython",
    "version": 3
   },
   "file_extension": ".py",
   "mimetype": "text/x-python",
   "name": "python",
   "nbconvert_exporter": "python",
   "pygments_lexer": "ipython3",
   "version": "3.9.5"
  }
 },
 "nbformat": 4,
 "nbformat_minor": 5
}
